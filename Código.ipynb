{
 "cells": [
  {
   "cell_type": "code",
   "execution_count": 47,
   "id": "160767c9-dcf9-46c8-841b-bfd423a97f5c",
   "metadata": {},
   "outputs": [],
   "source": [
    "# Importamos las librerias que vamos a utilizar en el proceso\n",
    "import pandas as pd\n",
    "import pylab as pl\n",
    "import numpy as np\n",
    "import scipy.optimize as opt\n",
    "from sklearn.model_selection import train_test_split\n",
    "from sklearn.preprocessing import StandardScaler\n",
    "from sklearn import svm\n",
    "from sklearn.metrics import classification_report, confusion_matrix\n",
    "import matplotlib.pyplot as plt\n",
    "import seaborn as sns\n",
    "from sklearn.svm import SVC\n",
    "import warnings #umporto esta libreria para avisos\n",
    "warnings.filterwarnings('ignore') # deshabilitar advertencias y avisos, para que los ignore"
   ]
  },
  {
   "cell_type": "code",
   "execution_count": 48,
   "id": "69e1845f-7259-4844-930f-b7ab731a13c2",
   "metadata": {},
   "outputs": [
    {
     "data": {
      "text/html": [
       "<div>\n",
       "<style scoped>\n",
       "    .dataframe tbody tr th:only-of-type {\n",
       "        vertical-align: middle;\n",
       "    }\n",
       "\n",
       "    .dataframe tbody tr th {\n",
       "        vertical-align: top;\n",
       "    }\n",
       "\n",
       "    .dataframe thead th {\n",
       "        text-align: right;\n",
       "    }\n",
       "</style>\n",
       "<table border=\"1\" class=\"dataframe\">\n",
       "  <thead>\n",
       "    <tr style=\"text-align: right;\">\n",
       "      <th></th>\n",
       "      <th>satisfaction_level</th>\n",
       "      <th>last_evaluation</th>\n",
       "      <th>number_project</th>\n",
       "      <th>average_montly_hours</th>\n",
       "      <th>time_spend_company</th>\n",
       "      <th>Work_accident</th>\n",
       "      <th>left</th>\n",
       "      <th>promotion_last_5years</th>\n",
       "      <th>sales</th>\n",
       "      <th>salary</th>\n",
       "    </tr>\n",
       "  </thead>\n",
       "  <tbody>\n",
       "    <tr>\n",
       "      <th>0</th>\n",
       "      <td>0.38</td>\n",
       "      <td>0.53</td>\n",
       "      <td>2</td>\n",
       "      <td>157</td>\n",
       "      <td>3</td>\n",
       "      <td>0</td>\n",
       "      <td>1</td>\n",
       "      <td>0</td>\n",
       "      <td>sales</td>\n",
       "      <td>low</td>\n",
       "    </tr>\n",
       "    <tr>\n",
       "      <th>1</th>\n",
       "      <td>0.80</td>\n",
       "      <td>0.86</td>\n",
       "      <td>5</td>\n",
       "      <td>262</td>\n",
       "      <td>6</td>\n",
       "      <td>0</td>\n",
       "      <td>1</td>\n",
       "      <td>0</td>\n",
       "      <td>sales</td>\n",
       "      <td>medium</td>\n",
       "    </tr>\n",
       "    <tr>\n",
       "      <th>2</th>\n",
       "      <td>0.11</td>\n",
       "      <td>0.88</td>\n",
       "      <td>7</td>\n",
       "      <td>272</td>\n",
       "      <td>4</td>\n",
       "      <td>0</td>\n",
       "      <td>1</td>\n",
       "      <td>0</td>\n",
       "      <td>sales</td>\n",
       "      <td>medium</td>\n",
       "    </tr>\n",
       "    <tr>\n",
       "      <th>3</th>\n",
       "      <td>0.72</td>\n",
       "      <td>0.87</td>\n",
       "      <td>5</td>\n",
       "      <td>223</td>\n",
       "      <td>5</td>\n",
       "      <td>0</td>\n",
       "      <td>1</td>\n",
       "      <td>0</td>\n",
       "      <td>sales</td>\n",
       "      <td>low</td>\n",
       "    </tr>\n",
       "    <tr>\n",
       "      <th>4</th>\n",
       "      <td>0.37</td>\n",
       "      <td>0.52</td>\n",
       "      <td>2</td>\n",
       "      <td>159</td>\n",
       "      <td>3</td>\n",
       "      <td>0</td>\n",
       "      <td>1</td>\n",
       "      <td>0</td>\n",
       "      <td>sales</td>\n",
       "      <td>low</td>\n",
       "    </tr>\n",
       "    <tr>\n",
       "      <th>...</th>\n",
       "      <td>...</td>\n",
       "      <td>...</td>\n",
       "      <td>...</td>\n",
       "      <td>...</td>\n",
       "      <td>...</td>\n",
       "      <td>...</td>\n",
       "      <td>...</td>\n",
       "      <td>...</td>\n",
       "      <td>...</td>\n",
       "      <td>...</td>\n",
       "    </tr>\n",
       "    <tr>\n",
       "      <th>14994</th>\n",
       "      <td>0.40</td>\n",
       "      <td>0.57</td>\n",
       "      <td>2</td>\n",
       "      <td>151</td>\n",
       "      <td>3</td>\n",
       "      <td>0</td>\n",
       "      <td>1</td>\n",
       "      <td>0</td>\n",
       "      <td>support</td>\n",
       "      <td>low</td>\n",
       "    </tr>\n",
       "    <tr>\n",
       "      <th>14995</th>\n",
       "      <td>0.37</td>\n",
       "      <td>0.48</td>\n",
       "      <td>2</td>\n",
       "      <td>160</td>\n",
       "      <td>3</td>\n",
       "      <td>0</td>\n",
       "      <td>1</td>\n",
       "      <td>0</td>\n",
       "      <td>support</td>\n",
       "      <td>low</td>\n",
       "    </tr>\n",
       "    <tr>\n",
       "      <th>14996</th>\n",
       "      <td>0.37</td>\n",
       "      <td>0.53</td>\n",
       "      <td>2</td>\n",
       "      <td>143</td>\n",
       "      <td>3</td>\n",
       "      <td>0</td>\n",
       "      <td>1</td>\n",
       "      <td>0</td>\n",
       "      <td>support</td>\n",
       "      <td>low</td>\n",
       "    </tr>\n",
       "    <tr>\n",
       "      <th>14997</th>\n",
       "      <td>0.11</td>\n",
       "      <td>0.96</td>\n",
       "      <td>6</td>\n",
       "      <td>280</td>\n",
       "      <td>4</td>\n",
       "      <td>0</td>\n",
       "      <td>1</td>\n",
       "      <td>0</td>\n",
       "      <td>support</td>\n",
       "      <td>low</td>\n",
       "    </tr>\n",
       "    <tr>\n",
       "      <th>14998</th>\n",
       "      <td>0.37</td>\n",
       "      <td>0.52</td>\n",
       "      <td>2</td>\n",
       "      <td>158</td>\n",
       "      <td>3</td>\n",
       "      <td>0</td>\n",
       "      <td>1</td>\n",
       "      <td>0</td>\n",
       "      <td>support</td>\n",
       "      <td>low</td>\n",
       "    </tr>\n",
       "  </tbody>\n",
       "</table>\n",
       "<p>14999 rows × 10 columns</p>\n",
       "</div>"
      ],
      "text/plain": [
       "       satisfaction_level  last_evaluation  number_project  \\\n",
       "0                    0.38             0.53               2   \n",
       "1                    0.80             0.86               5   \n",
       "2                    0.11             0.88               7   \n",
       "3                    0.72             0.87               5   \n",
       "4                    0.37             0.52               2   \n",
       "...                   ...              ...             ...   \n",
       "14994                0.40             0.57               2   \n",
       "14995                0.37             0.48               2   \n",
       "14996                0.37             0.53               2   \n",
       "14997                0.11             0.96               6   \n",
       "14998                0.37             0.52               2   \n",
       "\n",
       "       average_montly_hours  time_spend_company  Work_accident  left  \\\n",
       "0                       157                   3              0     1   \n",
       "1                       262                   6              0     1   \n",
       "2                       272                   4              0     1   \n",
       "3                       223                   5              0     1   \n",
       "4                       159                   3              0     1   \n",
       "...                     ...                 ...            ...   ...   \n",
       "14994                   151                   3              0     1   \n",
       "14995                   160                   3              0     1   \n",
       "14996                   143                   3              0     1   \n",
       "14997                   280                   4              0     1   \n",
       "14998                   158                   3              0     1   \n",
       "\n",
       "       promotion_last_5years    sales  salary  \n",
       "0                          0    sales     low  \n",
       "1                          0    sales  medium  \n",
       "2                          0    sales  medium  \n",
       "3                          0    sales     low  \n",
       "4                          0    sales     low  \n",
       "...                      ...      ...     ...  \n",
       "14994                      0  support     low  \n",
       "14995                      0  support     low  \n",
       "14996                      0  support     low  \n",
       "14997                      0  support     low  \n",
       "14998                      0  support     low  \n",
       "\n",
       "[14999 rows x 10 columns]"
      ]
     },
     "execution_count": 48,
     "metadata": {},
     "output_type": "execute_result"
    }
   ],
   "source": [
    "# Cargamos el archivo y lo visualizamos \n",
    "data = pd.read_csv(\"recursos_humanos.csv\")\n",
    "data"
   ]
  },
  {
   "cell_type": "code",
   "execution_count": 49,
   "id": "e1c75753-11dc-4a7f-9a15-f0bf2e6927fa",
   "metadata": {},
   "outputs": [
    {
     "name": "stdout",
     "output_type": "stream",
     "text": [
      "Index(['satisfaction_level', 'last_evaluation', 'number_project',\n",
      "       'average_montly_hours', 'time_spend_company', 'Work_accident', 'left',\n",
      "       'promotion_last_5years', 'sales_RandD', 'sales_accounting', 'sales_hr',\n",
      "       'sales_management', 'sales_marketing', 'sales_product_mng',\n",
      "       'sales_sales', 'sales_support', 'sales_technical', 'salary_low',\n",
      "       'salary_medium'],\n",
      "      dtype='object')\n"
     ]
    }
   ],
   "source": [
    "# Codificamos las variables categóricas\n",
    "data = pd.get_dummies(data, columns=['sales', 'salary'], drop_first=True)\n",
    "# Verificar las columnas después de la codificación\n",
    "print(data.columns)"
   ]
  },
  {
   "cell_type": "code",
   "execution_count": 50,
   "id": "70335587-8c24-4120-bffe-4b0ff973f8d1",
   "metadata": {},
   "outputs": [
    {
     "data": {
      "text/html": [
       "<div>\n",
       "<style scoped>\n",
       "    .dataframe tbody tr th:only-of-type {\n",
       "        vertical-align: middle;\n",
       "    }\n",
       "\n",
       "    .dataframe tbody tr th {\n",
       "        vertical-align: top;\n",
       "    }\n",
       "\n",
       "    .dataframe thead th {\n",
       "        text-align: right;\n",
       "    }\n",
       "</style>\n",
       "<table border=\"1\" class=\"dataframe\">\n",
       "  <thead>\n",
       "    <tr style=\"text-align: right;\">\n",
       "      <th></th>\n",
       "      <th>satisfaction_level</th>\n",
       "      <th>last_evaluation</th>\n",
       "      <th>number_project</th>\n",
       "      <th>average_montly_hours</th>\n",
       "      <th>time_spend_company</th>\n",
       "      <th>Work_accident</th>\n",
       "      <th>promotion_last_5years</th>\n",
       "      <th>sales_RandD</th>\n",
       "      <th>sales_accounting</th>\n",
       "      <th>sales_hr</th>\n",
       "      <th>sales_management</th>\n",
       "      <th>sales_marketing</th>\n",
       "      <th>sales_product_mng</th>\n",
       "      <th>sales_sales</th>\n",
       "      <th>sales_support</th>\n",
       "      <th>sales_technical</th>\n",
       "      <th>salary_low</th>\n",
       "      <th>salary_medium</th>\n",
       "    </tr>\n",
       "  </thead>\n",
       "  <tbody>\n",
       "    <tr>\n",
       "      <th>0</th>\n",
       "      <td>0.38</td>\n",
       "      <td>0.53</td>\n",
       "      <td>2</td>\n",
       "      <td>157</td>\n",
       "      <td>3</td>\n",
       "      <td>0</td>\n",
       "      <td>0</td>\n",
       "      <td>False</td>\n",
       "      <td>False</td>\n",
       "      <td>False</td>\n",
       "      <td>False</td>\n",
       "      <td>False</td>\n",
       "      <td>False</td>\n",
       "      <td>True</td>\n",
       "      <td>False</td>\n",
       "      <td>False</td>\n",
       "      <td>True</td>\n",
       "      <td>False</td>\n",
       "    </tr>\n",
       "    <tr>\n",
       "      <th>1</th>\n",
       "      <td>0.80</td>\n",
       "      <td>0.86</td>\n",
       "      <td>5</td>\n",
       "      <td>262</td>\n",
       "      <td>6</td>\n",
       "      <td>0</td>\n",
       "      <td>0</td>\n",
       "      <td>False</td>\n",
       "      <td>False</td>\n",
       "      <td>False</td>\n",
       "      <td>False</td>\n",
       "      <td>False</td>\n",
       "      <td>False</td>\n",
       "      <td>True</td>\n",
       "      <td>False</td>\n",
       "      <td>False</td>\n",
       "      <td>False</td>\n",
       "      <td>True</td>\n",
       "    </tr>\n",
       "    <tr>\n",
       "      <th>2</th>\n",
       "      <td>0.11</td>\n",
       "      <td>0.88</td>\n",
       "      <td>7</td>\n",
       "      <td>272</td>\n",
       "      <td>4</td>\n",
       "      <td>0</td>\n",
       "      <td>0</td>\n",
       "      <td>False</td>\n",
       "      <td>False</td>\n",
       "      <td>False</td>\n",
       "      <td>False</td>\n",
       "      <td>False</td>\n",
       "      <td>False</td>\n",
       "      <td>True</td>\n",
       "      <td>False</td>\n",
       "      <td>False</td>\n",
       "      <td>False</td>\n",
       "      <td>True</td>\n",
       "    </tr>\n",
       "    <tr>\n",
       "      <th>3</th>\n",
       "      <td>0.72</td>\n",
       "      <td>0.87</td>\n",
       "      <td>5</td>\n",
       "      <td>223</td>\n",
       "      <td>5</td>\n",
       "      <td>0</td>\n",
       "      <td>0</td>\n",
       "      <td>False</td>\n",
       "      <td>False</td>\n",
       "      <td>False</td>\n",
       "      <td>False</td>\n",
       "      <td>False</td>\n",
       "      <td>False</td>\n",
       "      <td>True</td>\n",
       "      <td>False</td>\n",
       "      <td>False</td>\n",
       "      <td>True</td>\n",
       "      <td>False</td>\n",
       "    </tr>\n",
       "    <tr>\n",
       "      <th>4</th>\n",
       "      <td>0.37</td>\n",
       "      <td>0.52</td>\n",
       "      <td>2</td>\n",
       "      <td>159</td>\n",
       "      <td>3</td>\n",
       "      <td>0</td>\n",
       "      <td>0</td>\n",
       "      <td>False</td>\n",
       "      <td>False</td>\n",
       "      <td>False</td>\n",
       "      <td>False</td>\n",
       "      <td>False</td>\n",
       "      <td>False</td>\n",
       "      <td>True</td>\n",
       "      <td>False</td>\n",
       "      <td>False</td>\n",
       "      <td>True</td>\n",
       "      <td>False</td>\n",
       "    </tr>\n",
       "    <tr>\n",
       "      <th>...</th>\n",
       "      <td>...</td>\n",
       "      <td>...</td>\n",
       "      <td>...</td>\n",
       "      <td>...</td>\n",
       "      <td>...</td>\n",
       "      <td>...</td>\n",
       "      <td>...</td>\n",
       "      <td>...</td>\n",
       "      <td>...</td>\n",
       "      <td>...</td>\n",
       "      <td>...</td>\n",
       "      <td>...</td>\n",
       "      <td>...</td>\n",
       "      <td>...</td>\n",
       "      <td>...</td>\n",
       "      <td>...</td>\n",
       "      <td>...</td>\n",
       "      <td>...</td>\n",
       "    </tr>\n",
       "    <tr>\n",
       "      <th>14994</th>\n",
       "      <td>0.40</td>\n",
       "      <td>0.57</td>\n",
       "      <td>2</td>\n",
       "      <td>151</td>\n",
       "      <td>3</td>\n",
       "      <td>0</td>\n",
       "      <td>0</td>\n",
       "      <td>False</td>\n",
       "      <td>False</td>\n",
       "      <td>False</td>\n",
       "      <td>False</td>\n",
       "      <td>False</td>\n",
       "      <td>False</td>\n",
       "      <td>False</td>\n",
       "      <td>True</td>\n",
       "      <td>False</td>\n",
       "      <td>True</td>\n",
       "      <td>False</td>\n",
       "    </tr>\n",
       "    <tr>\n",
       "      <th>14995</th>\n",
       "      <td>0.37</td>\n",
       "      <td>0.48</td>\n",
       "      <td>2</td>\n",
       "      <td>160</td>\n",
       "      <td>3</td>\n",
       "      <td>0</td>\n",
       "      <td>0</td>\n",
       "      <td>False</td>\n",
       "      <td>False</td>\n",
       "      <td>False</td>\n",
       "      <td>False</td>\n",
       "      <td>False</td>\n",
       "      <td>False</td>\n",
       "      <td>False</td>\n",
       "      <td>True</td>\n",
       "      <td>False</td>\n",
       "      <td>True</td>\n",
       "      <td>False</td>\n",
       "    </tr>\n",
       "    <tr>\n",
       "      <th>14996</th>\n",
       "      <td>0.37</td>\n",
       "      <td>0.53</td>\n",
       "      <td>2</td>\n",
       "      <td>143</td>\n",
       "      <td>3</td>\n",
       "      <td>0</td>\n",
       "      <td>0</td>\n",
       "      <td>False</td>\n",
       "      <td>False</td>\n",
       "      <td>False</td>\n",
       "      <td>False</td>\n",
       "      <td>False</td>\n",
       "      <td>False</td>\n",
       "      <td>False</td>\n",
       "      <td>True</td>\n",
       "      <td>False</td>\n",
       "      <td>True</td>\n",
       "      <td>False</td>\n",
       "    </tr>\n",
       "    <tr>\n",
       "      <th>14997</th>\n",
       "      <td>0.11</td>\n",
       "      <td>0.96</td>\n",
       "      <td>6</td>\n",
       "      <td>280</td>\n",
       "      <td>4</td>\n",
       "      <td>0</td>\n",
       "      <td>0</td>\n",
       "      <td>False</td>\n",
       "      <td>False</td>\n",
       "      <td>False</td>\n",
       "      <td>False</td>\n",
       "      <td>False</td>\n",
       "      <td>False</td>\n",
       "      <td>False</td>\n",
       "      <td>True</td>\n",
       "      <td>False</td>\n",
       "      <td>True</td>\n",
       "      <td>False</td>\n",
       "    </tr>\n",
       "    <tr>\n",
       "      <th>14998</th>\n",
       "      <td>0.37</td>\n",
       "      <td>0.52</td>\n",
       "      <td>2</td>\n",
       "      <td>158</td>\n",
       "      <td>3</td>\n",
       "      <td>0</td>\n",
       "      <td>0</td>\n",
       "      <td>False</td>\n",
       "      <td>False</td>\n",
       "      <td>False</td>\n",
       "      <td>False</td>\n",
       "      <td>False</td>\n",
       "      <td>False</td>\n",
       "      <td>False</td>\n",
       "      <td>True</td>\n",
       "      <td>False</td>\n",
       "      <td>True</td>\n",
       "      <td>False</td>\n",
       "    </tr>\n",
       "  </tbody>\n",
       "</table>\n",
       "<p>14999 rows × 18 columns</p>\n",
       "</div>"
      ],
      "text/plain": [
       "       satisfaction_level  last_evaluation  number_project  \\\n",
       "0                    0.38             0.53               2   \n",
       "1                    0.80             0.86               5   \n",
       "2                    0.11             0.88               7   \n",
       "3                    0.72             0.87               5   \n",
       "4                    0.37             0.52               2   \n",
       "...                   ...              ...             ...   \n",
       "14994                0.40             0.57               2   \n",
       "14995                0.37             0.48               2   \n",
       "14996                0.37             0.53               2   \n",
       "14997                0.11             0.96               6   \n",
       "14998                0.37             0.52               2   \n",
       "\n",
       "       average_montly_hours  time_spend_company  Work_accident  \\\n",
       "0                       157                   3              0   \n",
       "1                       262                   6              0   \n",
       "2                       272                   4              0   \n",
       "3                       223                   5              0   \n",
       "4                       159                   3              0   \n",
       "...                     ...                 ...            ...   \n",
       "14994                   151                   3              0   \n",
       "14995                   160                   3              0   \n",
       "14996                   143                   3              0   \n",
       "14997                   280                   4              0   \n",
       "14998                   158                   3              0   \n",
       "\n",
       "       promotion_last_5years  sales_RandD  sales_accounting  sales_hr  \\\n",
       "0                          0        False             False     False   \n",
       "1                          0        False             False     False   \n",
       "2                          0        False             False     False   \n",
       "3                          0        False             False     False   \n",
       "4                          0        False             False     False   \n",
       "...                      ...          ...               ...       ...   \n",
       "14994                      0        False             False     False   \n",
       "14995                      0        False             False     False   \n",
       "14996                      0        False             False     False   \n",
       "14997                      0        False             False     False   \n",
       "14998                      0        False             False     False   \n",
       "\n",
       "       sales_management  sales_marketing  sales_product_mng  sales_sales  \\\n",
       "0                 False            False              False         True   \n",
       "1                 False            False              False         True   \n",
       "2                 False            False              False         True   \n",
       "3                 False            False              False         True   \n",
       "4                 False            False              False         True   \n",
       "...                 ...              ...                ...          ...   \n",
       "14994             False            False              False        False   \n",
       "14995             False            False              False        False   \n",
       "14996             False            False              False        False   \n",
       "14997             False            False              False        False   \n",
       "14998             False            False              False        False   \n",
       "\n",
       "       sales_support  sales_technical  salary_low  salary_medium  \n",
       "0              False            False        True          False  \n",
       "1              False            False       False           True  \n",
       "2              False            False       False           True  \n",
       "3              False            False        True          False  \n",
       "4              False            False        True          False  \n",
       "...              ...              ...         ...            ...  \n",
       "14994           True            False        True          False  \n",
       "14995           True            False        True          False  \n",
       "14996           True            False        True          False  \n",
       "14997           True            False        True          False  \n",
       "14998           True            False        True          False  \n",
       "\n",
       "[14999 rows x 18 columns]"
      ]
     },
     "execution_count": 50,
     "metadata": {},
     "output_type": "execute_result"
    }
   ],
   "source": [
    "# Separar características y variable objetivo y las llamamos para visualizarlas\n",
    "X = data.drop('left', axis=1)\n",
    "y = data['left']\n",
    "X"
   ]
  },
  {
   "cell_type": "code",
   "execution_count": 51,
   "id": "bccc35aa-3790-4c02-a2d6-1a6abb874331",
   "metadata": {},
   "outputs": [
    {
     "data": {
      "text/plain": [
       "0        1\n",
       "1        1\n",
       "2        1\n",
       "3        1\n",
       "4        1\n",
       "        ..\n",
       "14994    1\n",
       "14995    1\n",
       "14996    1\n",
       "14997    1\n",
       "14998    1\n",
       "Name: left, Length: 14999, dtype: int64"
      ]
     },
     "execution_count": 51,
     "metadata": {},
     "output_type": "execute_result"
    }
   ],
   "source": [
    "y"
   ]
  },
  {
   "cell_type": "code",
   "execution_count": 52,
   "id": "f205df21-24e9-4f07-904a-e8eeebb26c97",
   "metadata": {},
   "outputs": [],
   "source": [
    "# Escalamos las características \n",
    "scaler = StandardScaler()\n",
    "X_scaled = scaler.fit_transform(X)"
   ]
  },
  {
   "cell_type": "code",
   "execution_count": 53,
   "id": "4da2b83c-2bef-4415-818f-ec89106b3fda",
   "metadata": {},
   "outputs": [
    {
     "name": "stdout",
     "output_type": "stream",
     "text": [
      "Grupo de entrenamiento (11999, 18) (11999,)\n",
      "Grupo de prueba (3000, 18) (3000,)\n"
     ]
    }
   ],
   "source": [
    "# Dividimos nuestros datos en conjuntos de entrenamiento y prueba\n",
    "X_train, X_test, y_train, y_test = train_test_split(X_scaled, y, test_size=0.2, random_state=42)\n",
    "print(\"Grupo de entrenamiento\", X_train.shape, y_train.shape) #lo imprimimos para visualizarlo\n",
    "print(\"Grupo de prueba\", X_test.shape, y_test.shape)"
   ]
  },
  {
   "cell_type": "markdown",
   "id": "b26f11c4-0fc3-417a-a3a7-4de9e853a911",
   "metadata": {},
   "source": [
    "# Modelación con SVM\r\n",
    "Opciones de Kemel (Transformaciones)\n",
    "* Linear\n",
    "* Polynomial\n",
    "*\r\n",
    "Radial Basis functi\n",
    "* Sigmoid     oid"
   ]
  },
  {
   "cell_type": "markdown",
   "id": "3323d77e-aa46-48a1-842e-552fa006f334",
   "metadata": {},
   "source": [
    "# Prueba de SVM con Kernel Linear "
   ]
  },
  {
   "cell_type": "code",
   "execution_count": 73,
   "id": "c332d896-55f6-4162-92e2-258b139f02d6",
   "metadata": {},
   "outputs": [
    {
     "data": {
      "text/plain": [
       "array([[2143,  151],\n",
       "       [ 543,  163]])"
      ]
     },
     "execution_count": 73,
     "metadata": {},
     "output_type": "execute_result"
    }
   ],
   "source": [
    "clf = svm.SVC(kernel=\"linear\") #Generamos nuestra variiable kerner \n",
    "clf.fit(X_train, y_train) # Para el ajuste sobre el grupo de entrenamiento\n",
    "yhat = clf.predict(X_test) #vamos a ocupar un nuevo grupo paea hacer la predicción\n",
    "from sklearn.metrics import confusion_matrix #para bajar nuestra libreria\n",
    "y_pred = clf.predict(X) #la definimos y hacemos la predicción\n",
    "cm = confusion_matrix(y_test, yhat)\n",
    "cm"
   ]
  },
  {
   "cell_type": "code",
   "execution_count": 74,
   "id": "d1601b44-186c-40bc-bbeb-8170ce07dd59",
   "metadata": {},
   "outputs": [
    {
     "name": "stdout",
     "output_type": "stream",
     "text": [
      "              precision    recall  f1-score   support\n",
      "\n",
      "           0       0.80      0.93      0.86      2294\n",
      "           1       0.52      0.23      0.32       706\n",
      "\n",
      "    accuracy                           0.77      3000\n",
      "   macro avg       0.66      0.58      0.59      3000\n",
      "weighted avg       0.73      0.77      0.73      3000\n",
      "\n"
     ]
    }
   ],
   "source": [
    "from sklearn.metrics import classification_report\n",
    "cnf_matrix = confusion_matrix(y_test, yhat, labels=[0,1])\n",
    "print (classification_report(y_test, yhat))"
   ]
  },
  {
   "cell_type": "code",
   "execution_count": 92,
   "id": "60caef62-2775-4b26-a5c1-7cdd3a4b44f5",
   "metadata": {},
   "outputs": [
    {
     "data": {
      "image/png": "[encoded data removed]",
      "text/plain": [
       "<Figure size 800x600 with 1 Axes>"
      ]
     },
     "metadata": {},
     "output_type": "display_data"
    }
   ],
   "source": [
    "# Creamos el mapa de calor\n",
    "plt.figure(figsize=(8, 6))\n",
    "sns.set(font_scale=1.2)  # Tamaño de la fuente\n",
    "ax = sns.heatmap(cm, annot=True, fmt='d', cmap='Blues', cbar=False, linewidths=1, linecolor='gray')\n",
    "\n",
    "# Configuramos los titulos\n",
    "plt.title('Matriz de Confusión - SVM con Kernel Linear', pad=20, fontsize=14)\n",
    "plt.xlabel('Predichas', fontsize=12)\n",
    "plt.ylabel('Reales', fontsize=12)\n",
    "\n",
    "# Añadir el reporte de clasificación como anotación de los valores previamente obtenidos\n",
    "report_text = (\"Reporte de Clasificación:\\n\\n\"\n",
    "               \"Clase 0 - Precisión: 0.80, Recall: 0.93\\n\"\n",
    "               \"Clase 1 - Precisión: 0.52, Recall: 0.23\\n\"\n",
    "               \"Exactitud: 0.77\")\n",
    "plt.text(2.5, 0.5, report_text, \n",
    "         bbox=dict(facecolor='white', alpha=0.5), \n",
    "         fontsize=10, verticalalignment='center')\n",
    "\n",
    "plt.tight_layout()\n",
    "plt.show()"
   ]
  },
  {
   "cell_type": "markdown",
   "id": "23f00868-213e-4ce7-8820-e23af5e4e49c",
   "metadata": {},
   "source": [
    "# Prueba de SVM con Kernel Polynomial"
   ]
  },
  {
   "cell_type": "code",
   "execution_count": 93,
   "id": "012977b6-92da-40aa-87ab-2818a217e811",
   "metadata": {},
   "outputs": [
    {
     "data": {
      "text/plain": [
       "array([[2233,   61],\n",
       "       [ 114,  592]])"
      ]
     },
     "execution_count": 93,
     "metadata": {},
     "output_type": "execute_result"
    }
   ],
   "source": [
    "clf = svm.SVC(kernel=\"poly\") #Generamos nuestra variiable kerner \n",
    "clf.fit(X_train, y_train) # Para el ajuste sobre el grupo de entrenamiento\n",
    "yhat = clf.predict(X_test) #vamos a ocupar un nuevo grupo paea hacer la predicción\n",
    "from sklearn.metrics import confusion_matrix #para bajar nuestra libreria\n",
    "y_pred = clf.predict(X) #la definimos y hacemos la predicción\n",
    "cm = confusion_matrix(y_test, yhat)\n",
    "cm"
   ]
  },
  {
   "cell_type": "code",
   "execution_count": 94,
   "id": "77dea788-78bb-4144-8f8a-48d198c3eca8",
   "metadata": {},
   "outputs": [
    {
     "name": "stdout",
     "output_type": "stream",
     "text": [
      "              precision    recall  f1-score   support\n",
      "\n",
      "           0       0.95      0.97      0.96      2294\n",
      "           1       0.91      0.84      0.87       706\n",
      "\n",
      "    accuracy                           0.94      3000\n",
      "   macro avg       0.93      0.91      0.92      3000\n",
      "weighted avg       0.94      0.94      0.94      3000\n",
      "\n"
     ]
    }
   ],
   "source": [
    "from sklearn.metrics import classification_report\n",
    "cnf_matrix = confusion_matrix(y_test, yhat, labels=[0,1])\n",
    "print (classification_report(y_test, yhat))"
   ]
  },
  {
   "cell_type": "code",
   "execution_count": 95,
   "id": "4f51b9f7-6b03-42c3-8f4e-7835d7e38280",
   "metadata": {},
   "outputs": [
    {
     "data": {
      "image/png": "[encoded data removed]",
      "text/plain": [
       "<Figure size 800x600 with 1 Axes>"
      ]
     },
     "metadata": {},
     "output_type": "display_data"
    }
   ],
   "source": [
    "# Creamos el mapa de calor\n",
    "plt.figure(figsize=(8, 6))\n",
    "sns.set(font_scale=1.2)  # Tamaño de la fuente\n",
    "ax = sns.heatmap(cm, annot=True, fmt='d', cmap='Blues', cbar=False, linewidths=1, linecolor='gray')\n",
    "\n",
    "# Configuramos los titulos\n",
    "plt.title('Matriz de Confusión - SVM con Kernel Polynomial', pad=20, fontsize=14)\n",
    "plt.xlabel('Predichas', fontsize=12)\n",
    "plt.ylabel('Reales', fontsize=12)\n",
    "\n",
    "# Añadir el reporte de clasificación como anotación de los valores previamente obtenidos\n",
    "report_text = (\"Reporte de Clasificación:\\n\\n\"\n",
    "               \"Clase 0 - Precisión: 0.95, Recall: 0.97\\n\"\n",
    "               \"Clase 1 - Precisión: 0.91, Recall: 0.84\\n\"\n",
    "               \"Exactitud: 0.94\")\n",
    "plt.text(2.5, 0.5, report_text, \n",
    "         bbox=dict(facecolor='white', alpha=0.5), \n",
    "         fontsize=10, verticalalignment='center')\n",
    "\n",
    "plt.tight_layout()\n",
    "plt.show()"
   ]
  },
  {
   "cell_type": "markdown",
   "id": "0a27f304-8665-4a46-833f-75446769b718",
   "metadata": {},
   "source": [
    "# Prueba de SVM con Kernel RBF"
   ]
  },
  {
   "cell_type": "code",
   "execution_count": 96,
   "id": "c2469132-6171-4f2e-a2a8-f69829c7bbc1",
   "metadata": {},
   "outputs": [
    {
     "data": {
      "text/plain": [
       "array([[2224,   70],\n",
       "       [  76,  630]])"
      ]
     },
     "execution_count": 96,
     "metadata": {},
     "output_type": "execute_result"
    }
   ],
   "source": [
    "clf = svm.SVC(kernel=\"rbf\") #Generamos nuestra variiable kerner con RBF\n",
    "clf.fit(X_train, y_train) # Para el ajuste sobre el grupo de entrenamiento\n",
    "yhat = clf.predict(X_test) #vamos a ocupar un nuevo grupo paea hacer la predicción\n",
    "from sklearn.metrics import confusion_matrix #para bajar nuestra libreria\n",
    "y_pred = clf.predict(X) #la definimos y hacemos la predicción\n",
    "cm = confusion_matrix(y_test, yhat)\n",
    "cm"
   ]
  },
  {
   "cell_type": "code",
   "execution_count": 97,
   "id": "a445196a-bffc-498a-afc5-7b108f04446c",
   "metadata": {},
   "outputs": [
    {
     "name": "stdout",
     "output_type": "stream",
     "text": [
      "              precision    recall  f1-score   support\n",
      "\n",
      "           0       0.97      0.97      0.97      2294\n",
      "           1       0.90      0.89      0.90       706\n",
      "\n",
      "    accuracy                           0.95      3000\n",
      "   macro avg       0.93      0.93      0.93      3000\n",
      "weighted avg       0.95      0.95      0.95      3000\n",
      "\n"
     ]
    }
   ],
   "source": [
    "from sklearn.metrics import classification_report\n",
    "cnf_matrix = confusion_matrix(y_test, yhat, labels=[0,1])\n",
    "print (classification_report(y_test, yhat))"
   ]
  },
  {
   "cell_type": "code",
   "execution_count": 98,
   "id": "3be4b041-45cb-42e1-a1d5-337d18f7eb7a",
   "metadata": {},
   "outputs": [
    {
     "data": {
      "image/png": "[encoded data removed]",
      "text/plain": [
       "<Figure size 800x600 with 1 Axes>"
      ]
     },
     "metadata": {},
     "output_type": "display_data"
    }
   ],
   "source": [
    "# Creamos el mapa de calor\n",
    "plt.figure(figsize=(8, 6))\n",
    "sns.set(font_scale=1.2)  # Tamaño de la fuente\n",
    "ax = sns.heatmap(cm, annot=True, fmt='d', cmap='Blues', cbar=False, linewidths=1, linecolor='gray')\n",
    "\n",
    "# Configuramos los titulos\n",
    "plt.title('Matriz de Confusión - SVM con Kernel RBF', pad=20, fontsize=14)\n",
    "plt.xlabel('Predichas', fontsize=12)\n",
    "plt.ylabel('Reales', fontsize=12)\n",
    "\n",
    "# Añadir el reporte de clasificación como anotación de los valores previamente obtenidos\n",
    "report_text = (\"Reporte de Clasificación:\\n\\n\"\n",
    "               \"Clase 0 - Precisión: 0.97, Recall: 0.97\\n\"\n",
    "               \"Clase 1 - Precisión: 0.90, Recall: 0.89\\n\"\n",
    "               \"Exactitud: 0.95\")\n",
    "plt.text(2.5, 0.5, report_text, \n",
    "         bbox=dict(facecolor='white', alpha=0.5), \n",
    "         fontsize=10, verticalalignment='center')\n",
    "\n",
    "plt.tight_layout()\n",
    "plt.show()"
   ]
  },
  {
   "cell_type": "markdown",
   "id": "eb312539-8089-48b9-8146-9a1d811cee9b",
   "metadata": {},
   "source": [
    "# Prueba de SVM con Kernel Sigmoid"
   ]
  },
  {
   "cell_type": "code",
   "execution_count": 99,
   "id": "b3512a25-5e1b-4258-bfaa-6ef9e6d72403",
   "metadata": {},
   "outputs": [
    {
     "data": {
      "text/plain": [
       "array([[1729,  565],\n",
       "       [ 588,  118]])"
      ]
     },
     "execution_count": 99,
     "metadata": {},
     "output_type": "execute_result"
    }
   ],
   "source": [
    "clf = svm.SVC(kernel=\"sigmoid\") #Generamos nuestra variiable kerner con RBF\n",
    "clf.fit(X_train, y_train) # Para el ajuste sobre el grupo de entrenamiento\n",
    "yhat = clf.predict(X_test) #vamos a ocupar un nuevo grupo paea hacer la predicción\n",
    "from sklearn.metrics import confusion_matrix #para bajar nuestra libreria\n",
    "y_pred = clf.predict(X) #la definimos y hacemos la predicción\n",
    "cm = confusion_matrix(y_test, yhat)\n",
    "cm"
   ]
  },
  {
   "cell_type": "code",
   "execution_count": 100,
   "id": "af50b19e-cf75-4564-aa21-18afd4b525f9",
   "metadata": {},
   "outputs": [
    {
     "name": "stdout",
     "output_type": "stream",
     "text": [
      "              precision    recall  f1-score   support\n",
      "\n",
      "           0       0.75      0.75      0.75      2294\n",
      "           1       0.17      0.17      0.17       706\n",
      "\n",
      "    accuracy                           0.62      3000\n",
      "   macro avg       0.46      0.46      0.46      3000\n",
      "weighted avg       0.61      0.62      0.61      3000\n",
      "\n"
     ]
    }
   ],
   "source": [
    "from sklearn.metrics import classification_report\n",
    "cnf_matrix = confusion_matrix(y_test, yhat, labels=[0,1])\n",
    "print (classification_report(y_test, yhat))"
   ]
  },
  {
   "cell_type": "code",
   "execution_count": 101,
   "id": "e0bb216b-f990-41a6-940f-9b33f9beb861",
   "metadata": {},
   "outputs": [
    {
     "data": {
      "image/png": "[encoded data removed]",
      "text/plain": [
       "<Figure size 800x600 with 1 Axes>"
      ]
     },
     "metadata": {},
     "output_type": "display_data"
    }
   ],
   "source": [
    "# Creamos el mapa de calor\n",
    "plt.figure(figsize=(8, 6))\n",
    "sns.set(font_scale=1.2)  # Tamaño de la fuente\n",
    "ax = sns.heatmap(cm, annot=True, fmt='d', cmap='Blues', cbar=False, linewidths=1, linecolor='gray')\n",
    "\n",
    "# Configuramos los titulos\n",
    "plt.title('Matriz de Confusión - SVM con Kernel Sigmoid', pad=20, fontsize=14)\n",
    "plt.xlabel('Predichas', fontsize=12)\n",
    "plt.ylabel('Reales', fontsize=12)\n",
    "\n",
    "# Añadir el reporte de clasificación como anotación de los valores previamente obtenidos\n",
    "report_text = (\"Reporte de Clasificación:\\n\\n\"\n",
    "               \"Clase 0 - Precisión: 0.75, Recall: 0.75\\n\"\n",
    "               \"Clase 1 - Precisión: 0.17, Recall: 0.17\\n\"\n",
    "               \"Exactitud: 0.62\")\n",
    "plt.text(2.5, 0.5, report_text, \n",
    "         bbox=dict(facecolor='white', alpha=0.5), \n",
    "         fontsize=10, verticalalignment='center')\n",
    "\n",
    "plt.tight_layout()\n",
    "plt.show()"
   ]
  },
  {
   "cell_type": "markdown",
   "id": "cde32b74-962c-410e-8acf-8af9dfe503e2",
   "metadata": {},
   "source": [
    "# ¿Cuál resultó ser el modelo predictivo más adecuado? \n",
    "El modelo SVM con kenner RBF presenta un desempeño sólido con una precisión global de 95% sin embargo existe un margen de mejora especialmente en el recall para la clase 1 empleados que dejan la empresa ya que solo captura el 89%. Si consideramos que el objetivo es identificar a los empleados que dejan la empresa, entonces es muy importante mejorar este recall, pero lo importante que podemos observar, es que este modelo nos puede indicar algunos empleados importantes que se van"
   ]
  },
  {
   "cell_type": "code",
   "execution_count": 109,
   "id": "cc94add1-11dc-4171-b030-24e4cf080ba7",
   "metadata": {},
   "outputs": [],
   "source": [
    "# Ahora, entrenamos el modelo SVM con kernel RBF (mejor modelo según el análisis)\n",
    "clf_rbf = SVC(kernel=\"rbf\")\n",
    "clf_rbf.fit(X_train, y_train)\n",
    "\n",
    "# Alimentamos los datos que nos da el ejercisio solicitado (Lo coloco en lista para visualiazarlo mejor)\n",
    "new_employee = pd.DataFrame({\n",
    "    'satisfaction_level': [0.5],\n",
    "    'last_evaluation': [0.7],\n",
    "    'number_project': [4],\n",
    "    'average_montly_hours': [200],\n",
    "    'time_spend_company': [4],\n",
    "    'Work_accident': [0],\n",
    "    'promotion_last_5years': [0],\n",
    "    'sales_RandD': [0], 'sales_accounting': [0], 'sales_hr': [0], \n",
    "    'sales_management': [0], 'sales_marketing': [0], 'sales_product_mng': [0],\n",
    "    'sales_sales': [1], 'sales_support': [0], 'sales_technical': [0],\n",
    "    'salary_low': [0], 'salary_medium': [1]\n",
    "})"
   ]
  },
  {
   "cell_type": "code",
   "execution_count": 113,
   "id": "7c34dd75-9abc-4724-9c3b-b34df19d77d4",
   "metadata": {},
   "outputs": [
    {
     "name": "stdout",
     "output_type": "stream",
     "text": [
      "\n",
      "Resultado de la predicción para el nuevo empleado:\n",
      "¿El empleado dejará la empresa? (No)\n",
      "Valor predicho: 0 (1 = Sí dejará, 0 = No dejará)\n"
     ]
    }
   ],
   "source": [
    "# Hacemos un ciclo For, para asegurarnos de que todas las columnas estén presentes (en el mismo orden, esto para evitar errores en la predicción)\n",
    "for col in X.columns:\n",
    "    if col not in new_employee.columns:\n",
    "        new_employee[col] = 0\n",
    "        # Reordenar columnas para que coincidan con el entrenamiento\n",
    "new_employee = new_employee[X.columns]\n",
    "# Hacemos nuestra Normalización o escalada de los datos del nuevo empleado\n",
    "new_employee_scaled = scaler.transform(new_employee)\n",
    "# Y ahora que los datos estan preparados hacemos la predicción\n",
    "prediction = clf_rbf.predict(new_employee_scaled)\n",
    "# Para mostrar el resultado le pido imprima el siguiente texto aunado con nuestro resultado y hamciendo la equivalencia de numero a respuesta requerida\n",
    "print(\"\\nResultado de la predicción para el nuevo empleado:\")\n",
    "print(f\"¿El empleado dejará la empresa? ({'Sí' if prediction[0] == 1 else 'No'})\")\n",
    "print(f\"Valor predicho: {prediction[0]} (1 = Sí dejará, 0 = No dejará)\") # Explicación\n"
   ]
  },
  {
   "cell_type": "code",
   "execution_count": null,
   "id": "bd316385-2d00-4c62-8343-3c71a48339fd",
   "metadata": {},
   "outputs": [],
   "source": []
  }
 ],
 "metadata": {
  "kernelspec": {
   "display_name": "anaconda-panel-2023.05-py310",
   "language": "python",
   "name": "conda-env-anaconda-panel-2023.05-py310-py"
  },
  "language_info": {
   "codemirror_mode": {
    "name": "ipython",
    "version": 3
   },
   "file_extension": ".py",
   "mimetype": "text/x-python",
   "name": "python",
   "nbconvert_exporter": "python",
   "pygments_lexer": "ipython3",
   "version": "3.11.5"
  }
 },
 "nbformat": 4,
 "nbformat_minor": 5
}
